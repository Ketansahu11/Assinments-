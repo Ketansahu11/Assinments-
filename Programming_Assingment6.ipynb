{
 "cells": [
  {
   "cell_type": "code",
   "execution_count": 10,
   "metadata": {},
   "outputs": [
    {
     "name": "stdout",
     "output_type": "stream",
     "text": [
      "How many terms9\n",
      "fibonacci sequence:\n",
      "0\n",
      "1\n",
      "1\n",
      "2\n",
      "3\n",
      "5\n",
      "8\n",
      "13\n",
      "21\n"
     ]
    }
   ],
   "source": [
    "# Write a Python Program to Display Fibonacci Sequence Using Recursion?\n",
    "\n",
    "def r_fib(n):\n",
    "    if n <= 1:  \n",
    "        return n  \n",
    "    else:  \n",
    "        return(r_fib(n-1) + r_fib(n-2))  \n",
    "  \n",
    "nterms = int(input(\"How many terms\"))  \n",
    "if nterms <= 0:  \n",
    "    print(\"enter a positive integer\")  \n",
    "else:  \n",
    "    print(\"fibonacci sequence:\")  \n",
    "    for i in range(nterms):  \n",
    "        print(r_fib(i))  \n"
   ]
  },
  {
   "cell_type": "code",
   "execution_count": 16,
   "metadata": {},
   "outputs": [
    {
     "name": "stdout",
     "output_type": "stream",
     "text": [
      "Object `Recursion` not found.\n",
      "Enter a number: 9\n",
      "The factorial of 9 is 362880\n"
     ]
    }
   ],
   "source": [
    "2. Write a Python Program to Find Factorial of Number Using Recursion?\n",
    "\n",
    "def r_fact(n):  \n",
    "    if n == 1:  \n",
    "        return n  \n",
    "    else:  \n",
    "        return n*r_fact(n-1)  \n",
    "\n",
    "numb = int(input(\"Enter a number: \"))  \n",
    " \n",
    "if numb < 0:  \n",
    "   print(\"factorial does not exist for negative numbers\")  \n",
    "elif numb == 0:  \n",
    "   print(\"The factorial of 0 is 1\")  \n",
    "else:  \n",
    "   print(\"The factorial of\",numb,\"is\",r_fact(numb))  \n"
   ]
  },
  {
   "cell_type": "code",
   "execution_count": 19,
   "metadata": {},
   "outputs": [
    {
     "name": "stdout",
     "output_type": "stream",
     "text": [
      "Enter your height in cm 196\n",
      "Enter your weight in kg 85\n",
      "22.12619741774261\n"
     ]
    }
   ],
   "source": [
    "# Write a Python Program to calculate your Body Mass Index?\n",
    "\n",
    "def bmi():\n",
    "    h = float(input(\"Enter your height in cm \"))\n",
    "    w = float(input(\"Enter your weight in kg \"))\n",
    "\n",
    "    BMI = w/(h/100)**2\n",
    "    print(BMI)\n",
    "    \n",
    "bmi()"
   ]
  },
  {
   "cell_type": "code",
   "execution_count": 21,
   "metadata": {},
   "outputs": [
    {
     "name": "stdout",
     "output_type": "stream",
     "text": [
      "log values 2.302585092994046\n"
     ]
    }
   ],
   "source": [
    "# 4. Write a Python Program to calculate the natural logarithm of any number?\n",
    "\n",
    "import math\n",
    "print ('log values', math.log(10))"
   ]
  },
  {
   "cell_type": "code",
   "execution_count": 25,
   "metadata": {},
   "outputs": [
    {
     "data": {
      "text/plain": [
       "784"
      ]
     },
     "execution_count": 25,
     "metadata": {},
     "output_type": "execute_result"
    }
   ],
   "source": [
    "# 5. Write a Python Program for cube sum of first n natural numbers?\n",
    "\n",
    "def Cube_sum(n):\n",
    "    sum = 0\n",
    "    for i in range(1, n+1):\n",
    "        sum += i*i*i\n",
    "        \n",
    "    return sum\n",
    "\n",
    "Cube_sum(7)"
   ]
  },
  {
   "cell_type": "code",
   "execution_count": null,
   "metadata": {},
   "outputs": [],
   "source": []
  }
 ],
 "metadata": {
  "kernelspec": {
   "display_name": "Python 3",
   "language": "python",
   "name": "python3"
  },
  "language_info": {
   "codemirror_mode": {
    "name": "ipython",
    "version": 3
   },
   "file_extension": ".py",
   "mimetype": "text/x-python",
   "name": "python",
   "nbconvert_exporter": "python",
   "pygments_lexer": "ipython3",
   "version": "3.8.5"
  }
 },
 "nbformat": 4,
 "nbformat_minor": 4
}
