{
 "cells": [
  {
   "cell_type": "code",
   "execution_count": 46,
   "metadata": {},
   "outputs": [],
   "source": [
    "# Write a Python Program to Find the Factorial of a Number?\n",
    "\n",
    "\n",
    "def fact():\n",
    "    fac =1\n",
    "    num =int(input(\"enter the number\"))\n",
    "    if num < 1:\n",
    "        print(\"plese enter a valid number\")\n",
    "    else:\n",
    "      \n",
    "        for i in range(1,num+1):\n",
    "            fac = i * fac\n",
    "\n",
    "        print(f\"The Factorial of the number {num} is {fac}\")"
   ]
  },
  {
   "cell_type": "code",
   "execution_count": 47,
   "metadata": {},
   "outputs": [
    {
     "name": "stdout",
     "output_type": "stream",
     "text": [
      "enter the number5\n",
      "the factorial of the number 5 is 120\n"
     ]
    }
   ],
   "source": [
    "fact()"
   ]
  },
  {
   "cell_type": "code",
   "execution_count": 55,
   "metadata": {},
   "outputs": [],
   "source": [
    "# Write a Python Program to Display the multiplication Table?\n",
    "\n",
    "\n",
    "def mult():\n",
    "    num =int(input(\"Enter the number\"))\n",
    "    for i in range(1,11):\n",
    "        print(f\"{num} x {i} = {i*num}\")"
   ]
  },
  {
   "cell_type": "markdown",
   "metadata": {},
   "source": [
    "mul()"
   ]
  },
  {
   "cell_type": "code",
   "execution_count": 56,
   "metadata": {},
   "outputs": [
    {
     "name": "stdout",
     "output_type": "stream",
     "text": [
      "Enter the number5\n",
      "5 x 1 = 5\n",
      "5 x 2 = 10\n",
      "5 x 3 = 15\n",
      "5 x 4 = 20\n",
      "5 x 5 = 25\n",
      "5 x 6 = 30\n",
      "5 x 7 = 35\n",
      "5 x 8 = 40\n",
      "5 x 9 = 45\n",
      "5 x 10 = 50\n"
     ]
    }
   ],
   "source": [
    "mult()"
   ]
  },
  {
   "cell_type": "code",
   "execution_count": 66,
   "metadata": {},
   "outputs": [],
   "source": [
    "# Write a Python Program to Print the Fibonacci sequence?\n",
    "\n",
    "def fib():\n",
    "    nterms = int(input(\"How many terms ? \"))\n",
    "\n",
    "    n1,n2 =0,1\n",
    "    count= 0\n",
    "\n",
    "    if nterms <=0:\n",
    "        print(\"plese enter a +ve int\")\n",
    "        \n",
    "    elif nterms ==1:\n",
    "        print(f\"the Fibonacci sequence upto {nterms} is \")\n",
    "        print(n1)\n",
    "        \n",
    "    else:\n",
    "        print(\"the Fibonacci sequence\")\n",
    "        while count < nterms :\n",
    "                print(n1)\n",
    "                nth = n1 +n2\n",
    "# update the values \n",
    "                n1=n2\n",
    "                n2= nth \n",
    "                count +=1"
   ]
  },
  {
   "cell_type": "code",
   "execution_count": 67,
   "metadata": {},
   "outputs": [
    {
     "name": "stdout",
     "output_type": "stream",
     "text": [
      "How many terms ? 8\n",
      "the Fibonacci sequence\n",
      "0\n",
      "1\n",
      "1\n",
      "2\n",
      "3\n",
      "5\n",
      "8\n",
      "13\n"
     ]
    }
   ],
   "source": [
    "fib()"
   ]
  },
  {
   "cell_type": "code",
   "execution_count": 7,
   "metadata": {},
   "outputs": [],
   "source": [
    "# Write a Python Program to Check Armstrong Number?\n",
    "\n",
    "def Armstrong():\n",
    "    num = int(input(\"Enter a number: \"))\n",
    "\n",
    "    sum = 0\n",
    "\n",
    "    temp = num\n",
    "    while temp > 0:\n",
    "       digit = temp % 10\n",
    "       sum += digit ** 3\n",
    "       temp //= 10\n",
    "\n",
    "# display the result\n",
    "    if num == sum:\n",
    "       print(num,\"is an Armstrong number\")\n",
    "    else:\n",
    "       print(num,\"is not an Armstrong number\")"
   ]
  },
  {
   "cell_type": "code",
   "execution_count": 8,
   "metadata": {},
   "outputs": [
    {
     "name": "stdout",
     "output_type": "stream",
     "text": [
      "Enter a number: 407\n",
      "407 is an Armstrong number\n"
     ]
    }
   ],
   "source": [
    "Armstrong()"
   ]
  },
  {
   "cell_type": "code",
   "execution_count": 17,
   "metadata": {},
   "outputs": [],
   "source": [
    "# Write a Python Program to Find Armstrong Number in an Interval?\n",
    "\n",
    "def arm_interval():\n",
    "    \n",
    "    lower = 100\n",
    "    upper = 10000\n",
    "\n",
    "    for num in range(lower, upper + 1):\n",
    "\n",
    "        order = len(str(num))\n",
    "\n",
    "      \n",
    "        sum = 0\n",
    "\n",
    "        temp = num\n",
    "        while temp > 0:\n",
    "            digit = temp % 10\n",
    "            sum += digit ** order\n",
    "            temp //= 10\n",
    "\n",
    "        if num == sum:\n",
    "            print(num)"
   ]
  },
  {
   "cell_type": "code",
   "execution_count": 18,
   "metadata": {},
   "outputs": [
    {
     "name": "stdout",
     "output_type": "stream",
     "text": [
      "153\n",
      "370\n",
      "371\n",
      "407\n",
      "1634\n",
      "8208\n",
      "9474\n"
     ]
    }
   ],
   "source": [
    "arm_interval()"
   ]
  },
  {
   "cell_type": "code",
   "execution_count": 30,
   "metadata": {},
   "outputs": [],
   "source": [
    "# Write a Python Program to Find the Sum of Natural Numbers?\n",
    "\n",
    "def sum_natural():\n",
    "    n = int(input(\" Enter the range \"))\n",
    "    sum = 0\n",
    "    for i in range (1,n+1):\n",
    "        sum += i\n",
    "        \n",
    "    print(f\"The sum of number between 1 to {n} is {sum}\")\n",
    "      "
   ]
  },
  {
   "cell_type": "code",
   "execution_count": 31,
   "metadata": {},
   "outputs": [
    {
     "name": "stdout",
     "output_type": "stream",
     "text": [
      " Enter the range 100\n",
      "The sum of number between 1 to 100 is 5050\n"
     ]
    }
   ],
   "source": [
    "sum_natural()"
   ]
  },
  {
   "cell_type": "code",
   "execution_count": 32,
   "metadata": {},
   "outputs": [],
   "source": []
  },
  {
   "cell_type": "code",
   "execution_count": null,
   "metadata": {},
   "outputs": [],
   "source": []
  }
 ],
 "metadata": {
  "kernelspec": {
   "display_name": "Python 3",
   "language": "python",
   "name": "python3"
  },
  "language_info": {
   "codemirror_mode": {
    "name": "ipython",
    "version": 3
   },
   "file_extension": ".py",
   "mimetype": "text/x-python",
   "name": "python",
   "nbconvert_exporter": "python",
   "pygments_lexer": "ipython3",
   "version": "3.8.5"
  }
 },
 "nbformat": 4,
 "nbformat_minor": 4
}
