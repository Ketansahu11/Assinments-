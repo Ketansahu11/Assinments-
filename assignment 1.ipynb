{
 "cells": [
  {
   "cell_type": "code",
   "execution_count": 2,
   "metadata": {},
   "outputs": [
    {
     "data": {
      "text/plain": [
       "\"\\n1. In the below elements which of them are values or an expression? eg:- values can be integer or string and expressions will be mathemacal operators. \\n*  \\n'hello'   right \\n-87.8     right \\n-  \\n/  \\n+\\t \\n6         right \\n\""
      ]
     },
     "execution_count": 2,
     "metadata": {},
     "output_type": "execute_result"
    }
   ],
   "source": [
    "\n",
    "1. In the below elements which of them are values or an expression? eg:- values can be integer or string and expressions will be mathemacal operators. \n",
    "*  \n",
    "'hello'   right \n",
    "-87.8     right \n",
    "-  \n",
    "/  \n",
    "+\t \n",
    "6         right \n",
    "\n",
    " \n"
   ]
  },
  {
   "cell_type": "code",
   "execution_count": null,
   "metadata": {},
   "outputs": [],
   "source": [
    "2. What is the difference between string and variable? \n",
    "A string is a type of variable where as variable is used to store the different data types\n"
   ]
  },
  {
   "cell_type": "code",
   "execution_count": null,
   "metadata": {},
   "outputs": [],
   "source": [
    "3.\tDescribe three different data types. \n",
    "\n",
    "int , string , float, Boolean  \n"
   ]
  },
  {
   "cell_type": "code",
   "execution_count": null,
   "metadata": {},
   "outputs": [],
   "source": [
    "4.\tWhat is an expression made up of? What do all expressions do? \n",
    "\n",
    "Expression represents something or a values that can be stored in a variable . it gives some values which we can store in a variable for ex  a = 2(3+4)   so here 2(3+4) is an expression  \n"
   ]
  },
  {
   "cell_type": "code",
   "execution_count": null,
   "metadata": {},
   "outputs": [],
   "source": [
    "5.\tThis assignment statements, like spam = 10. What is the difference between an expression and a statement? \n",
    "\n",
    "Expression returns a value where as statement does not return a value. \n",
    "\n",
    "Expression can print as result and statement cant print a result  \n"
   ]
  },
  {
   "cell_type": "code",
   "execution_count": null,
   "metadata": {},
   "outputs": [],
   "source": [
    "6.\tAer running the following code, what does the variable bacon contain? \n",
    "\n",
    "bacon = 22 bacon + 1 bacon = 23 (integer)\n"
   ]
  },
  {
   "cell_type": "code",
   "execution_count": null,
   "metadata": {},
   "outputs": [],
   "source": [
    "7.\tWhat should the values of the following two terms be? \n",
    "\n",
    "'spam' + 'spamspam'   = 'spamspamspam' \n",
    "'spam' * 3            = 'spamspamspam' \n"
   ]
  },
  {
   "cell_type": "code",
   "execution_count": null,
   "metadata": {},
   "outputs": [],
   "source": [
    "8.\tWhy is eggs a valid variable name while 100 is invalid? \n",
    " \n",
    "    As 100  is an integer data type. \n"
   ]
  },
  {
   "cell_type": "code",
   "execution_count": null,
   "metadata": {},
   "outputs": [],
   "source": [
    "9.\tWhat three funcons can be used to get the integer, floang-point number, or string version of a value? int , str, float and to check we can use type().  \n",
    " \n",
    "    As 100  is an integer data type and its not allowed to have int as a variable \n"
   ]
  },
  {
   "cell_type": "code",
   "execution_count": null,
   "metadata": {},
   "outputs": [],
   "source": [
    "10.\tWhy does this expression cause an error? How can you fix it? \n",
    "'I have eaten ' + 99 + ' burritos.' \n",
    "\n",
    "As 99 is a int type so we can convert it to string type then it will be fine. \n"
   ]
  }
 ],
 "metadata": {
  "kernelspec": {
   "display_name": "Python 3",
   "language": "python",
   "name": "python3"
  },
  "language_info": {
   "codemirror_mode": {
    "name": "ipython",
    "version": 3
   },
   "file_extension": ".py",
   "mimetype": "text/x-python",
   "name": "python",
   "nbconvert_exporter": "python",
   "pygments_lexer": "ipython3",
   "version": "3.8.5"
  }
 },
 "nbformat": 4,
 "nbformat_minor": 4
}
